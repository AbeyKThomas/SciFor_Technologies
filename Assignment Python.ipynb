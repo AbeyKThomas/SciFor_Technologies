{
 "cells": [
  {
   "cell_type": "markdown",
   "id": "64be84e3",
   "metadata": {},
   "source": [
    "#### Python Assignment Questions\n"
   ]
  },
  {
   "cell_type": "markdown",
   "id": "f1933845",
   "metadata": {},
   "source": [
    "Q1. Create a python program to sort the given list of tuples based on integer value using a\n",
    "lambda function.\n",
    "[('Sachin Tendulkar', 34357), ('Ricky Ponting', 27483), ('Jack Kallis', 25534), ('Virat Kohli',\n",
    "24936)]"
   ]
  },
  {
   "cell_type": "code",
   "execution_count": 18,
   "id": "ab1726cd",
   "metadata": {},
   "outputs": [
    {
     "name": "stdout",
     "output_type": "stream",
     "text": [
      "('Virat Kohli', 24936)\n",
      "\n",
      "\n",
      "('Jack Kallis', 25534)\n",
      "\n",
      "\n",
      "('Ricky Ponting', 27483)\n",
      "\n",
      "\n",
      "('Sachin Tendulkar', 34357)\n",
      "\n",
      "\n"
     ]
    }
   ],
   "source": [
    "List = [('Sachin Tendulkar', 34357), ('Ricky Ponting', 27483), ('Jack Kallis', 25534), ('Virat Kohli', 24936)]\n",
    "\n",
    "\n",
    "sorted_List = sorted(List, key =  lambda x: x[1] ,reverse=False)\n",
    "\n",
    "for i in sorted_List :\n",
    "    print(i)\n",
    "    print('\\n')\n"
   ]
  },
  {
   "cell_type": "code",
   "execution_count": null,
   "id": "6562c2de",
   "metadata": {},
   "outputs": [],
   "source": []
  },
  {
   "cell_type": "code",
   "execution_count": null,
   "id": "69a0a813",
   "metadata": {},
   "outputs": [],
   "source": []
  },
  {
   "cell_type": "markdown",
   "id": "2af112b3",
   "metadata": {},
   "source": [
    "Q2. Write a Python Program to find the squares of all the numbers in the given list of integers\n",
    "using lambda and map functions.\n",
    "[1, 2, 3, 4, 5, 6, 7, 8, 9, 10]"
   ]
  },
  {
   "cell_type": "code",
   "execution_count": 22,
   "id": "9ce323db",
   "metadata": {},
   "outputs": [
    {
     "name": "stdout",
     "output_type": "stream",
     "text": [
      "[1, 4, 9, 16, 25, 36, 49, 64, 81, 100]\n"
     ]
    }
   ],
   "source": [
    "List1 = [1, 2, 3, 4, 5, 6, 7, 8, 9, 10]\n",
    "\n",
    "List1_squares = list( map (lambda x : x**2 , List1))\n",
    "\n",
    "print(List1_squares)"
   ]
  },
  {
   "cell_type": "code",
   "execution_count": null,
   "id": "1e575c16",
   "metadata": {},
   "outputs": [],
   "source": []
  },
  {
   "cell_type": "code",
   "execution_count": null,
   "id": "18d0fcad",
   "metadata": {},
   "outputs": [],
   "source": []
  },
  {
   "cell_type": "markdown",
   "id": "efe5d485",
   "metadata": {},
   "source": [
    "Q3. Write a python program to convert the given list of integers into a tuple of strings. Use map\n",
    "and lambda functions\n",
    "Given String: [1, 2, 3, 4, 5, 6, 7, 8, 9, 10]\n",
    "Expected output: ('1', '2', '3', '4', '5', '6', '7', '8', '9', '10')"
   ]
  },
  {
   "cell_type": "code",
   "execution_count": 23,
   "id": "29cc9f6f",
   "metadata": {},
   "outputs": [
    {
     "name": "stdout",
     "output_type": "stream",
     "text": [
      "('1', '2', '3', '4', '5', '6', '7', '8', '9', '10')\n"
     ]
    }
   ],
   "source": [
    "List2 =[1, 2, 3, 4, 5, 6, 7, 8, 9, 10] \n",
    "\n",
    "tuple_string = tuple(map (lambda x : str(x) , List2))\n",
    "\n",
    "print(tuple_string)"
   ]
  },
  {
   "cell_type": "code",
   "execution_count": null,
   "id": "b3f28fea",
   "metadata": {},
   "outputs": [],
   "source": []
  },
  {
   "cell_type": "code",
   "execution_count": null,
   "id": "95e0334d",
   "metadata": {},
   "outputs": [],
   "source": []
  },
  {
   "cell_type": "markdown",
   "id": "1f52a905",
   "metadata": {},
   "source": [
    "Q4. Write a python program using reduce function to compute the product of a list containing\n",
    "numbers from 1 to 25."
   ]
  },
  {
   "cell_type": "code",
   "execution_count": 26,
   "id": "c5363876",
   "metadata": {},
   "outputs": [],
   "source": [
    "from functools import reduce"
   ]
  },
  {
   "cell_type": "code",
   "execution_count": 28,
   "id": "f84221c9",
   "metadata": {},
   "outputs": [
    {
     "name": "stdout",
     "output_type": "stream",
     "text": [
      "product of numbers of List3 is : 15511210043330985984000000 \n"
     ]
    }
   ],
   "source": [
    "List3 = list(range(1,26))\n",
    "\n",
    "product_of_List3 = reduce (lambda x,y : x*y , List3)\n",
    "\n",
    "print(\"product of numbers of List3 is : {} \" . format(product_of_List3))\n",
    "    "
   ]
  },
  {
   "cell_type": "code",
   "execution_count": null,
   "id": "06c7025a",
   "metadata": {},
   "outputs": [],
   "source": []
  },
  {
   "cell_type": "code",
   "execution_count": null,
   "id": "a0183c55",
   "metadata": {},
   "outputs": [],
   "source": []
  },
  {
   "cell_type": "markdown",
   "id": "3b4cd09f",
   "metadata": {},
   "source": [
    "Q5. Write a python program to filter the numbers in a given list that are divisible by 2 and 3\n",
    "[2, 3, 6, 9, 27, 60, 90, 120, 55, 46]"
   ]
  },
  {
   "cell_type": "code",
   "execution_count": 32,
   "id": "78215619",
   "metadata": {},
   "outputs": [
    {
     "name": "stdout",
     "output_type": "stream",
     "text": [
      "Numbers divisible by 2 and 3 is : [6, 60, 90, 120]\n"
     ]
    }
   ],
   "source": [
    "List4 = [2, 3, 6, 9, 27, 60, 90, 120, 55, 46]\n",
    "\n",
    "numbers_divideby_2_and_3 = list( filter (lambda x : (x%2 == 0) and (x%3 ==0) , List4) )\n",
    "\n",
    "print(f\"Numbers divisible by 2 and 3 is : {numbers_divideby_2_and_3}\")"
   ]
  },
  {
   "cell_type": "code",
   "execution_count": null,
   "id": "bb448a27",
   "metadata": {},
   "outputs": [],
   "source": []
  },
  {
   "cell_type": "code",
   "execution_count": null,
   "id": "81635e41",
   "metadata": {},
   "outputs": [],
   "source": []
  },
  {
   "cell_type": "code",
   "execution_count": null,
   "id": "830006a2",
   "metadata": {},
   "outputs": [],
   "source": []
  },
  {
   "cell_type": "markdown",
   "id": "3ccd9239",
   "metadata": {},
   "source": [
    "Q6. Write a python program to find palindromes in the given list of strings using lambda and\n",
    "filter function.\n",
    "['python', 'php', 'aba', 'radar', 'level']"
   ]
  },
  {
   "cell_type": "code",
   "execution_count": 37,
   "id": "f362560d",
   "metadata": {},
   "outputs": [
    {
     "name": "stdout",
     "output_type": "stream",
     "text": [
      "Palindrom words in List5 is : ['php', 'aba', 'radar', 'level']\n"
     ]
    }
   ],
   "source": [
    "List5 =['python', 'php', 'aba', 'radar', 'level']\n",
    "\n",
    "palindromes_List5 = list (filter(lambda x : x ==x[::-1]   , List5 ))\n",
    "\n",
    "print(f\"Palindrom words in List5 is : {palindromes_List5}\")"
   ]
  },
  {
   "cell_type": "code",
   "execution_count": null,
   "id": "5e82ec5b",
   "metadata": {},
   "outputs": [],
   "source": []
  }
 ],
 "metadata": {
  "kernelspec": {
   "display_name": "Python 3 (ipykernel)",
   "language": "python",
   "name": "python3"
  },
  "language_info": {
   "codemirror_mode": {
    "name": "ipython",
    "version": 3
   },
   "file_extension": ".py",
   "mimetype": "text/x-python",
   "name": "python",
   "nbconvert_exporter": "python",
   "pygments_lexer": "ipython3",
   "version": "3.9.12"
  }
 },
 "nbformat": 4,
 "nbformat_minor": 5
}
